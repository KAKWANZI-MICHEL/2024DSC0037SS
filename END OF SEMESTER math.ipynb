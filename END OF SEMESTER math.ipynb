{
 "cells": [
  {
   "cell_type": "markdown",
   "id": "43b657de-eb59-46a0-b7d3-d4a3d5e6b14b",
   "metadata": {},
   "source": [
    "# 2024/DSC/0037/SS"
   ]
  },
  {
   "cell_type": "markdown",
   "id": "7d3f0264-7419-48c4-8e9c-8d33c3b50956",
   "metadata": {},
   "source": [
    "## QUESTION FIVE"
   ]
  },
  {
   "cell_type": "code",
   "execution_count": 1,
   "id": "f5fcb222-540e-4e35-ab8f-2d5a316103c8",
   "metadata": {},
   "outputs": [],
   "source": [
    "import numpy as np"
   ]
  },
  {
   "cell_type": "code",
   "execution_count": 2,
   "id": "08baad6f-6c38-47f0-9722-1891c7606514",
   "metadata": {},
   "outputs": [],
   "source": [
    "import pandas as pd"
   ]
  },
  {
   "cell_type": "markdown",
   "id": "55e8588b-fd9a-486c-893d-dd1d31a2e637",
   "metadata": {},
   "source": [
    "## i) COMPUTING THE INVERSION OF THE  MATRIX (TRANSPOSE)"
   ]
  },
  {
   "cell_type": "code",
   "execution_count": 3,
   "id": "6a44b931-a186-4ccc-a6bb-9d8d3df36dc4",
   "metadata": {},
   "outputs": [
    {
     "name": "stdout",
     "output_type": "stream",
     "text": [
      "[[1.  0.2 0.5]\n",
      " [0.2 1.  0.8]\n",
      " [0.5 0.8 0.1]]\n"
     ]
    }
   ],
   "source": [
    "X = np.array([[1,0.2,0.5],[0.2,1,0.8],[0.5,0.8,0.1]])\n",
    "print(X)\n",
    "             "
   ]
  },
  {
   "cell_type": "code",
   "execution_count": 4,
   "id": "8bb2e287-03a2-4b19-a305-fe7ae0b531a2",
   "metadata": {},
   "outputs": [
    {
     "data": {
      "text/plain": [
       "array([[1. , 0.2, 0.5],\n",
       "       [0.2, 1. , 0.8],\n",
       "       [0.5, 0.8, 0.1]])"
      ]
     },
     "execution_count": 4,
     "metadata": {},
     "output_type": "execute_result"
    }
   ],
   "source": [
    "XT  = np.array([[1,0.2,0.5],[0.2,1,0.8],[0.5,0.8,0.1]])\n",
    "X.T"
   ]
  },
  {
   "cell_type": "markdown",
   "id": "a3e14699-8fb4-4cb0-b893-3500a76a11cf",
   "metadata": {},
   "source": [
    "## ii)  COMPUTING THE DETERMINANT OF THE MATRIX IF POSSIBLE\n"
   ]
  },
  {
   "cell_type": "code",
   "execution_count": 33,
   "id": "29c7c6a6-1225-41f0-9b40-c1283fd76e9d",
   "metadata": {},
   "outputs": [
    {
     "name": "stdout",
     "output_type": "stream",
     "text": [
      "[[1.  0.2 0.5]\n",
      " [0.2 1.  0.8]\n",
      " [0.5 0.8 0.1]]\n"
     ]
    }
   ],
   "source": [
    " x = np.array([[1,0.2,0.5],[0.2,1,0.8],[0.5,0.8,0.1]])\n",
    "print (x)"
   ]
  },
  {
   "cell_type": "code",
   "execution_count": 6,
   "id": "8f77edf0-1098-4d3c-b08c-615563808cc9",
   "metadata": {},
   "outputs": [
    {
     "name": "stdout",
     "output_type": "stream",
     "text": [
      "-0.6340000000000001\n"
     ]
    }
   ],
   "source": [
    "determinantx = np.linalg.det([[1,0.2,0.5],[0.2,1,0.8],[0.5,0.8,0.1]]) \n",
    "print(determinantx)"
   ]
  },
  {
   "cell_type": "markdown",
   "id": "6709e73c-2bb3-4493-a2d7-e0b28091574e",
   "metadata": {},
   "source": [
    "## iii) DECOMPOSING THE MATRIX"
   ]
  },
  {
   "cell_type": "code",
   "execution_count": 31,
   "id": "05092834-f6aa-4881-a322-7c7c16251a1d",
   "metadata": {},
   "outputs": [
    {
     "name": "stdout",
     "output_type": "stream",
     "text": [
      "EigResult(eigenvalues=array([ 1.7331484 ,  0.81544896, -0.44859737]), eigenvectors=array([[-0.52760373, -0.81580673, -0.23684104],\n",
      "       [-0.68786097,  0.57387975, -0.44442022],\n",
      "       [-0.49847928,  0.07156406,  0.8639427 ]]))\n"
     ]
    }
   ],
   "source": [
    "matrix = np.linalg.eig([[1,0.2,0.5],[0.2,1,0.8],[0.5,0.8,0.1]])\n",
    "print(matrix)"
   ]
  },
  {
   "cell_type": "markdown",
   "id": "484dcbd1-1c0c-472e-b4b7-6d5b77c6cf6c",
   "metadata": {},
   "source": [
    "## iv)  TRANSFORMING THE MATRIX"
   ]
  },
  {
   "cell_type": "code",
   "execution_count": null,
   "id": "c22d38bb-8119-411c-9fdb-61e1e5fc6976",
   "metadata": {},
   "outputs": [],
   "source": []
  },
  {
   "cell_type": "markdown",
   "id": "e091a616-8a70-40d8-800e-c870debc2425",
   "metadata": {},
   "source": [
    "## QUESTION SIX"
   ]
  },
  {
   "cell_type": "markdown",
   "id": "ab54939a-c2ef-467f-a7ce-826c2353f96a",
   "metadata": {},
   "source": [
    "## i) GENERATING 1000 RANDOM SAMPLES FROM THIS POISSON DISTRIBUTION USING PYTHON"
   ]
  },
  {
   "cell_type": "code",
   "execution_count": 23,
   "id": "7d637477-6e86-4e28-8711-f21f90ec6ab2",
   "metadata": {},
   "outputs": [
    {
     "name": "stdout",
     "output_type": "stream",
     "text": [
      "[1 1 2 2 1 2 4 2 0 1 2 1 1 4 2 5 0 1 0 3 0 1 3 1 6 4 2 2 2 2 1 1 2 3 3 1 2\n",
      " 2 2 4 0 1 1 4 2 0 0 3 3 3 4 2 2 1 2 4 2 2 2 1 1 4 2 0 1 2 0 1 4 0 3 0 4 2\n",
      " 2 4 1 3 3 4 2 3 4 1 2 4 0 0 1 1 4 3 1 2 3 1 2 0 2 3]\n"
     ]
    }
   ],
   "source": [
    "poisson_samples = np.random.poisson(lam = 2, size = 100)\n",
    "print(poisson_samples)"
   ]
  },
  {
   "cell_type": "markdown",
   "id": "0ef22a82-1521-449c-977f-296045491053",
   "metadata": {},
   "source": [
    "## ii)  CALCULATING AND PRINTING THE MEAN AN THE VARIANCE OF GENERATED SAMPLES"
   ]
  },
  {
   "cell_type": "code",
   "execution_count": 24,
   "id": "3b987f3f-1e23-4a6a-96eb-b86a64a112c0",
   "metadata": {},
   "outputs": [
    {
     "name": "stdout",
     "output_type": "stream",
     "text": [
      "1.98\n",
      "1.7996000000000003\n"
     ]
    }
   ],
   "source": [
    "mean_samples = np.mean(poisson_samples)\n",
    "variance_samples = np.var(poisson_samples)\n",
    "print(mean_samples)\n",
    "print(variance_samples)"
   ]
  },
  {
   "cell_type": "markdown",
   "id": "b6f5bf5b-fb81-4110-8693-b9c2f48fedc6",
   "metadata": {},
   "source": [
    "## iii) PLOTTING A HISTOGRAM OF THE SAMPLES TO VISUALISE THE DISTRIBUTION"
   ]
  },
  {
   "cell_type": "code",
   "execution_count": 25,
   "id": "111bae0f-07a9-4d67-af75-b8fddcc7c15c",
   "metadata": {},
   "outputs": [],
   "source": [
    "import matplotlib.pyplot as plt"
   ]
  },
  {
   "cell_type": "code",
   "execution_count": 27,
   "id": "d9b32ce9-bf69-4e0b-9514-92f391b330a9",
   "metadata": {},
   "outputs": [
    {
     "data": {
      "image/png": "[encoded data removed]",
      "text/plain": [
       "<Figure size 800x500 with 1 Axes>"
      ]
     },
     "metadata": {},
     "output_type": "display_data"
    }
   ],
   "source": [
    "plt.figure(figsize=(8, 5))\n",
    "plt.hist(poisson_samples, bins=15, color='skyblue', edgecolor='black', alpha=0.7)\n",
    "plt.title('Histogram of Poisson Samples')\n",
    "plt.xlabel('Number of Arrivals')\n",
    "plt.ylabel('Frequency')\n",
    "plt.show()\n"
   ]
  },
  {
   "cell_type": "code",
   "execution_count": null,
   "id": "290ee762-373b-4237-adf2-4797d66fbf4b",
   "metadata": {},
   "outputs": [],
   "source": []
  }
 ],
 "metadata": {
  "kernelspec": {
   "display_name": "Python 3 (ipykernel)",
   "language": "python",
   "name": "python3"
  },
  "language_info": {
   "codemirror_mode": {
    "name": "ipython",
    "version": 3
   },
   "file_extension": ".py",
   "mimetype": "text/x-python",
   "name": "python",
   "nbconvert_exporter": "python",
   "pygments_lexer": "ipython3",
   "version": "3.12.5"
  }
 },
 "nbformat": 4,
 "nbformat_minor": 5
}
